{
  "cells": [
    {
      "cell_type": "markdown",
      "source": [
        "Model to detect PUSHUP with MediaPipe and OpenCV.\n",
        "\n",
        "Upload the video input in:\n",
        "\n",
        "```\n",
        "video = \" \"\n",
        "```\n",
        "Run all cells and the output will be saved in the format `output.avi` .\n"
      ],
      "metadata": {
        "id": "K3dfmpXnAcAb"
      }
    },
    {
      "cell_type": "markdown",
      "source": [
        "Install and import required libraries"
      ],
      "metadata": {
        "id": "SBTg3k76tU-8"
      }
    },
    {
      "cell_type": "code",
      "execution_count": null,
      "metadata": {
        "id": "RRzfjbUrTLhq"
      },
      "outputs": [],
      "source": [
        "!pip install OpenCV-Python\n",
        "!pip install MediaPipe\n",
        "!pip install imutils"
      ]
    },
    {
      "cell_type": "code",
      "source": [
        "import cv2 as cv\n",
        "import mediapipe as mp\n",
        "import imutils\n",
        "import math"
      ],
      "metadata": {
        "id": "4MIctIqU8dme"
      },
      "execution_count": null,
      "outputs": []
    },
    {
      "cell_type": "markdown",
      "source": [
        "Upload the video here."
      ],
      "metadata": {
        "id": "LILppH-p2uBj"
      }
    },
    {
      "cell_type": "code",
      "source": [
        "video = \" \""
      ],
      "metadata": {
        "id": "iiWvqv-z2r1O"
      },
      "execution_count": null,
      "outputs": []
    },
    {
      "cell_type": "markdown",
      "source": [
        "Declare required variables"
      ],
      "metadata": {
        "id": "208Xhonz9-Ut"
      }
    },
    {
      "cell_type": "code",
      "source": [
        "# identify the landmarks\n",
        "mp_pose = mp.solutions.pose\n",
        "\n",
        "# position of elbows and shoulders\n",
        "position = None\n",
        "\n",
        "# video input\n",
        "cap = cv.VideoCapture(video)\n",
        "\n",
        "frame_width = int(cap.get(3))\n",
        "frame_height = int(cap.get(4))\n",
        "\n",
        "# saving the output\n",
        "result_video = \"output.avi\"\n",
        "out = cv.VideoWriter(result_video, cv.VideoWriter_fourcc('M', 'J', 'P', 'G'), 10, (frame_width, frame_height))\n",
        "\n",
        "# params to put text in frame\n",
        "font = cv.FONT_HERSHEY_SIMPLEX\n",
        "fontScale = 1\n",
        "thickness = int(2)"
      ],
      "metadata": {
        "id": "wlsKdd1d7yvw"
      },
      "execution_count": null,
      "outputs": []
    },
    {
      "cell_type": "markdown",
      "source": [
        "Call MediaPipe pose estimation model and preprocess the input."
      ],
      "metadata": {
        "id": "G8IR_VgM_TbM"
      }
    },
    {
      "cell_type": "code",
      "execution_count": null,
      "metadata": {
        "id": "KaOpWukOPKZ1"
      },
      "outputs": [],
      "source": [
        "with mp_pose.Pose(\n",
        "    min_detection_confidence = 0.7,\n",
        "    min_tracking_confidence = 0.7) as pose:\n",
        "\n",
        "    while cap.isOpened():\n",
        "      ret, frame = cap.read()\n",
        "\n",
        "      if not ret:\n",
        "        print(\"can't access frame\")\n",
        "        break\n",
        "      image = imutils.resize(frame, width=500)\n",
        "      image = cv.cvtColor(cv.flip(image, 1), cv.COLOR_BGR2RGB)\n",
        "      result = pose.process(image)\n",
        "\n",
        "      landmarks = []\n",
        "\n",
        "      if result.pose_landmarks:\n",
        "        for id, im in enumerate(result.pose_landmarks.landmark):\n",
        "          h, w, _ = image.shape\n",
        "\n",
        "          # finding exact corrdinates of body points.\n",
        "          X, Y = int(im.x * w), int(im.y * h)\n",
        "          landmarks.append([id, X, Y])\n",
        "\n",
        "      if len(landmarks) != 0:\n",
        "          if (landmarks[12][2] and landmarks[11][2] >= landmarks[14][2] and landmarks[13][2]):\n",
        "            position = \"down\"\n",
        "\n",
        "          if (landmarks[12][2] and landmarks[13][2] <= landmarks[14][2] and landmarks[13][2]) and position == \"down\":\n",
        "            position = \"up\"\n",
        "\n",
        "      # Displaying the output\n",
        "      if position == \"down\" or position == \"up\":\n",
        "          cv.putText(frame, \"PUSH UP\", (50, 50), font, fontScale, (0, 255, 0), 4)\n",
        "      else:\n",
        "          cv.putText(frame, \"NOT A PUSHUP\", (50, 50), font, fontScale, (0, 255, 0), 4)\n",
        "\n",
        "      form = cv.putText(frame, f\"POSITION OF YOUR BODY: {position}\", (500, 40), font, fontScale, (0, 0, 255), thickness)\n",
        "\n",
        "      # write the output\n",
        "      out.write(frame)\n",
        "\n",
        "      if cv.waitKey(1) & 0xFF == ord('q'):\n",
        "        break\n",
        "\n",
        "cap.release()\n",
        "cv.destroyAllWindows()"
      ]
    }
  ],
  "metadata": {
    "colab": {
      "provenance": []
    },
    "kernelspec": {
      "display_name": "Python 3",
      "name": "python3"
    },
    "language_info": {
      "name": "python"
    }
  },
  "nbformat": 4,
  "nbformat_minor": 0
}